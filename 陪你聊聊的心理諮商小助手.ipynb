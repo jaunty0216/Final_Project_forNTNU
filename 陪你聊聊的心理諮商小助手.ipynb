{
  "nbformat": 4,
  "nbformat_minor": 0,
  "metadata": {
    "colab": {
      "provenance": [],
      "authorship_tag": "ABX9TyOG4tjprFJZf/bRiD6X6V6Q",
      "include_colab_link": true
    },
    "kernelspec": {
      "name": "python3",
      "display_name": "Python 3"
    },
    "language_info": {
      "name": "python"
    }
  },
  "cells": [
    {
      "cell_type": "markdown",
      "metadata": {
        "id": "view-in-github",
        "colab_type": "text"
      },
      "source": [
        "<a href=\"https://colab.research.google.com/github/jaunty0216/Final_Project_forNTNU/blob/main/%E9%99%AA%E4%BD%A0%E8%81%8A%E8%81%8A%E7%9A%84%E5%BF%83%E7%90%86%E8%AB%AE%E5%95%86%E5%B0%8F%E5%8A%A9%E6%89%8B.ipynb\" target=\"_parent\"><img src=\"https://colab.research.google.com/assets/colab-badge.svg\" alt=\"Open In Colab\"/></a>"
      ]
    },
    {
      "cell_type": "markdown",
      "source": [
        "#初始步驟"
      ],
      "metadata": {
        "id": "2d_6uINIpO-d"
      }
    },
    {
      "cell_type": "markdown",
      "source": [
        "##引入AI"
      ],
      "metadata": {
        "id": "fmS30lVfpaRA"
      }
    },
    {
      "cell_type": "code",
      "execution_count": 6,
      "metadata": {
        "id": "Q5hvd8zbxq34",
        "colab": {
          "base_uri": "https://localhost:8080/",
          "height": 35
        },
        "outputId": "a037e013-0e89-4041-da8b-e44697f3a313"
      },
      "outputs": [
        {
          "output_type": "stream",
          "name": "stdout",
          "text": [
            "Loading completed!\n"
          ]
        }
      ],
      "source": [
        "from google.colab import userdata\n",
        "GOOGLE_API_KEY = userdata.get(\"GOOGLE_API_KEY\")\n",
        "\n",
        "import google.generativeai as genai\n",
        "genai.configure(api_key = GOOGLE_API_KEY)\n",
        "consultant_A = genai.GenerativeModel(\"gemini-1.5-flash\")\n",
        "consultant_B = genai.GenerativeModel(\"gemini-2.0-flash\")\n",
        "prompt_A = \"you're now play a role as a consultant, giving responses to the user all the time\"\n",
        "prompt_B = \"you're now play a role as a analyst, giving responses to the user all the time\"\n",
        "\n",
        "consultant_A.generate_content(prompt_A)\n",
        "consultant_B.generate_content(prompt_B)\n",
        "print(\"Loading completed!\")"
      ]
    },
    {
      "cell_type": "markdown",
      "source": [
        "## 連結anvil"
      ],
      "metadata": {
        "id": "kochRmCCacUS"
      }
    },
    {
      "cell_type": "code",
      "source": [
        "!pip install anvil-uplink\n"
      ],
      "metadata": {
        "colab": {
          "base_uri": "https://localhost:8080/",
          "height": 301
        },
        "id": "xXGGya1dbNh6",
        "outputId": "7ed5812a-6464-49b7-e6e3-23188d25413c"
      },
      "execution_count": 3,
      "outputs": [
        {
          "output_type": "stream",
          "name": "stdout",
          "text": [
            "Requirement already satisfied: anvil-uplink in /usr/local/lib/python3.11/dist-packages (0.5.2)\n",
            "Collecting argparse (from anvil-uplink)\n",
            "  Using cached argparse-1.4.0-py2.py3-none-any.whl.metadata (2.8 kB)\n",
            "Requirement already satisfied: future in /usr/local/lib/python3.11/dist-packages (from anvil-uplink) (1.0.0)\n",
            "Requirement already satisfied: six in /usr/local/lib/python3.11/dist-packages (from anvil-uplink) (1.17.0)\n",
            "Requirement already satisfied: ws4py-sslupdate in /usr/local/lib/python3.11/dist-packages (from anvil-uplink) (0.5.1b0)\n",
            "Using cached argparse-1.4.0-py2.py3-none-any.whl (23 kB)\n",
            "Installing collected packages: argparse\n",
            "Successfully installed argparse-1.4.0\n"
          ]
        },
        {
          "output_type": "display_data",
          "data": {
            "application/vnd.colab-display-data+json": {
              "pip_warning": {
                "packages": [
                  "argparse"
                ]
              },
              "id": "0f68a585e14e49c29d74e777537ba247"
            }
          },
          "metadata": {}
        }
      ]
    },
    {
      "cell_type": "code",
      "source": [
        "import anvil.server\n",
        "anvil.server.connect('server_KQSOW4M5HWB4SLVCMSQ23UKN-CRWI6HY3TTFKBT24')"
      ],
      "metadata": {
        "id": "qcgNhNn9lDgY",
        "outputId": "92b68b62-e155-450e-b2e8-fa0e1357fde1",
        "colab": {
          "base_uri": "https://localhost:8080/"
        }
      },
      "execution_count": 2,
      "outputs": [
        {
          "output_type": "stream",
          "name": "stdout",
          "text": [
            "Connecting to wss://anvil.works/uplink\n",
            "Anvil websocket open\n",
            "Connected to \"Published\" as SERVER\n"
          ]
        }
      ]
    },
    {
      "cell_type": "markdown",
      "source": [
        "#中間步驟"
      ],
      "metadata": {
        "id": "Sg1I5mvNrgui"
      }
    },
    {
      "cell_type": "markdown",
      "source": [
        "##開始聊天吧"
      ],
      "metadata": {
        "id": "Fn5nXBhz_doO"
      }
    },
    {
      "cell_type": "code",
      "source": [
        "# # prompt: a user can enter how many time he can talk with consultant_A，and the conversation will be recorded as a dataframe\n",
        "\n",
        "# import pandas as pd\n",
        "\n",
        "# # ... (your existing code)\n",
        "\n",
        "# # Get user input for the number of conversations\n",
        "# num_conversations = int(input(\"Enter the number of conversations with consultant_A: \"))\n",
        "\n",
        "# # Create an empty list to store conversation data\n",
        "# conversation_data = []\n",
        "\n",
        "# # Loop through the specified number of conversations\n",
        "# for i in range(num_conversations):\n",
        "#     user_input = input(f\"Conversation {i+1}: Enter your message: \")\n",
        "\n",
        "#     # Interact with consultant_A\n",
        "#     response = consultant_A.generate_content(user_input)\n",
        "#     consultant_response = response.text\n",
        "#     print(f\"Consultant A Response: {consultant_response}\")\n",
        "\n",
        "#     # Store the conversation data\n",
        "#     conversation_data.append({\n",
        "#         \"Consultant A Response\": consultant_response\n",
        "#     })\n",
        "\n",
        "# # Create a Pandas DataFrame from the conversation data\n",
        "# df = pd.DataFrame(conversation_data)\n",
        "\n",
        "# # Display the DataFrame\n",
        "# df\n",
        "# full_content = df.to_string()\n",
        "# prompt2 = f'請根據以下內容進行分析，統整出可以給使用者的建議：{full_content}'\n",
        "# analization = consultant_B.generate_content(prompt2)\n",
        "# print(f\"Consultant B Response: {analization.text}\")\n",
        "\n",
        "# # Optionally, save the DataFrame to a file\n",
        "# # df.to_csv(\"conversations.csv\", index=False)\n"
      ],
      "metadata": {
        "id": "doFUjxrXrlGa"
      },
      "execution_count": 3,
      "outputs": []
    },
    {
      "cell_type": "code",
      "source": [
        "@anvil.server.callable\n",
        "def Consulting(UserInput):\n",
        "  response = consultant_A.generate_content(UserInput)\n",
        "  consultant_response = response.text\n",
        "  consultant_response = consultant_response.replace('*', '')\n",
        "  if consultant_response:\n",
        "    return consultant_response"
      ],
      "metadata": {
        "id": "zGrsxCdA6PtX"
      },
      "execution_count": 11,
      "outputs": []
    },
    {
      "cell_type": "code",
      "source": [
        "anvil.server.wait_forever()"
      ],
      "metadata": {
        "colab": {
          "base_uri": "https://localhost:8080/",
          "height": 237
        },
        "id": "M4MzgkqlkCxh",
        "outputId": "4a1c297c-d6ce-472c-db9d-017842651156"
      },
      "execution_count": 12,
      "outputs": [
        {
          "output_type": "error",
          "ename": "KeyboardInterrupt",
          "evalue": "",
          "traceback": [
            "\u001b[0;31m---------------------------------------------------------------------------\u001b[0m",
            "\u001b[0;31mKeyboardInterrupt\u001b[0m                         Traceback (most recent call last)",
            "\u001b[0;32m<ipython-input-12-95cac3476493>\u001b[0m in \u001b[0;36m<cell line: 0>\u001b[0;34m()\u001b[0m\n\u001b[0;32m----> 1\u001b[0;31m \u001b[0manvil\u001b[0m\u001b[0;34m.\u001b[0m\u001b[0mserver\u001b[0m\u001b[0;34m.\u001b[0m\u001b[0mwait_forever\u001b[0m\u001b[0;34m(\u001b[0m\u001b[0;34m)\u001b[0m\u001b[0;34m\u001b[0m\u001b[0;34m\u001b[0m\u001b[0m\n\u001b[0m",
            "\u001b[0;32m/usr/local/lib/python3.11/dist-packages/anvil/server.py\u001b[0m in \u001b[0;36mwait_forever\u001b[0;34m()\u001b[0m\n\u001b[1;32m    446\u001b[0m     \u001b[0m_get_connection\u001b[0m\u001b[0;34m(\u001b[0m\u001b[0;34m)\u001b[0m\u001b[0;34m\u001b[0m\u001b[0;34m\u001b[0m\u001b[0m\n\u001b[1;32m    447\u001b[0m     \u001b[0;32mwhile\u001b[0m \u001b[0;32mTrue\u001b[0m\u001b[0;34m:\u001b[0m\u001b[0;34m\u001b[0m\u001b[0;34m\u001b[0m\u001b[0m\n\u001b[0;32m--> 448\u001b[0;31m         \u001b[0mtime\u001b[0m\u001b[0;34m.\u001b[0m\u001b[0msleep\u001b[0m\u001b[0;34m(\u001b[0m\u001b[0;36m1\u001b[0m\u001b[0;34m)\u001b[0m\u001b[0;34m\u001b[0m\u001b[0;34m\u001b[0m\u001b[0m\n\u001b[0m",
            "\u001b[0;31mKeyboardInterrupt\u001b[0m: "
          ]
        }
      ]
    },
    {
      "cell_type": "code",
      "source": [],
      "metadata": {
        "id": "aEb3k4JnlLuH"
      },
      "execution_count": null,
      "outputs": []
    }
  ]
}