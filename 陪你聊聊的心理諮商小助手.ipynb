{
  "nbformat": 4,
  "nbformat_minor": 0,
  "metadata": {
    "colab": {
      "provenance": [],
      "toc_visible": true,
      "authorship_tag": "ABX9TyNMZdnoHJdaPJsH42Z+qCT6",
      "include_colab_link": true
    },
    "kernelspec": {
      "name": "python3",
      "display_name": "Python 3"
    },
    "language_info": {
      "name": "python"
    }
  },
  "cells": [
    {
      "cell_type": "markdown",
      "metadata": {
        "id": "view-in-github",
        "colab_type": "text"
      },
      "source": [
        "<a href=\"https://colab.research.google.com/github/jaunty0216/Final_Project_forNTNU/blob/main/%E9%99%AA%E4%BD%A0%E8%81%8A%E8%81%8A%E7%9A%84%E5%BF%83%E7%90%86%E8%AB%AE%E5%95%86%E5%B0%8F%E5%8A%A9%E6%89%8B.ipynb\" target=\"_parent\"><img src=\"https://colab.research.google.com/assets/colab-badge.svg\" alt=\"Open In Colab\"/></a>"
      ]
    },
    {
      "cell_type": "markdown",
      "source": [
        "#初始步驟"
      ],
      "metadata": {
        "id": "2d_6uINIpO-d"
      }
    },
    {
      "cell_type": "markdown",
      "source": [
        "##引入AI"
      ],
      "metadata": {
        "id": "fmS30lVfpaRA"
      }
    },
    {
      "cell_type": "code",
      "execution_count": 1,
      "metadata": {
        "id": "Q5hvd8zbxq34"
      },
      "outputs": [],
      "source": [
        "from google.colab import userdata\n",
        "GOOGLE_API_KEY = userdata.get(\"GOOGLE_API_KEY\")\n",
        "\n",
        "import google.generativeai as genai\n",
        "genai.configure(api_key = GOOGLE_API_KEY)\n",
        "consultant_A = genai.GenerativeModel(\"gemini-1.5-flash\")\n",
        "consultant_B = genai.GenerativeModel(\"gemini-1.5-turbo\")"
      ]
    },
    {
      "cell_type": "markdown",
      "source": [
        "#中間步驟"
      ],
      "metadata": {
        "id": "Sg1I5mvNrgui"
      }
    },
    {
      "cell_type": "code",
      "source": [
        "# prompt: a user can enter how many time he can talk with consultant_A，and the conversation will be recorded as a dataframe\n",
        "\n",
        "import pandas as pd\n",
        "\n",
        "# ... (your existing code)\n",
        "\n",
        "# Get user input for the number of conversations\n",
        "num_conversations = int(input(\"Enter the number of conversations with consultant_A: \"))\n",
        "\n",
        "# Create an empty list to store conversation data\n",
        "conversation_data = []\n",
        "\n",
        "# Loop through the specified number of conversations\n",
        "for i in range(num_conversations):\n",
        "    user_input = input(f\"Conversation {i+1}: Enter your message: \")\n",
        "\n",
        "    # Interact with consultant_A\n",
        "    response = consultant_A.generate_text(prompt=user_input)\n",
        "    consultant_response = response.result\n",
        "\n",
        "    # Store the conversation data\n",
        "    conversation_data.append({\n",
        "        \"Conversation Number\": i+1,\n",
        "        \"User Input\": user_input,\n",
        "        \"Consultant A Response\": consultant_response\n",
        "    })\n",
        "\n",
        "# Create a Pandas DataFrame from the conversation data\n",
        "df = pd.DataFrame(conversation_data)\n",
        "\n",
        "# Display the DataFrame\n",
        "df\n",
        "\n",
        "# Optionally, save the DataFrame to a file\n",
        "# df.to_csv(\"conversations.csv\", index=False)\n"
      ],
      "metadata": {
        "id": "doFUjxrXrlGa"
      },
      "execution_count": null,
      "outputs": []
    }
  ]
}