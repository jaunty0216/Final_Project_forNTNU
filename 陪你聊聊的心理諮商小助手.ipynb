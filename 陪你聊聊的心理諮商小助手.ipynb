{
  "nbformat": 4,
  "nbformat_minor": 0,
  "metadata": {
    "colab": {
      "provenance": [],
      "toc_visible": true,
      "authorship_tag": "ABX9TyNm+xGfeYBAdtMwlbHGhE+y",
      "include_colab_link": true
    },
    "kernelspec": {
      "name": "python3",
      "display_name": "Python 3"
    },
    "language_info": {
      "name": "python"
    }
  },
  "cells": [
    {
      "cell_type": "markdown",
      "metadata": {
        "id": "view-in-github",
        "colab_type": "text"
      },
      "source": [
        "<a href=\"https://colab.research.google.com/github/jaunty0216/Final_Project_forNTNU/blob/main/%E9%99%AA%E4%BD%A0%E8%81%8A%E8%81%8A%E7%9A%84%E5%BF%83%E7%90%86%E8%AB%AE%E5%95%86%E5%B0%8F%E5%8A%A9%E6%89%8B.ipynb\" target=\"_parent\"><img src=\"https://colab.research.google.com/assets/colab-badge.svg\" alt=\"Open In Colab\"/></a>"
      ]
    },
    {
      "cell_type": "markdown",
      "source": [
        "#初始步驟"
      ],
      "metadata": {
        "id": "2d_6uINIpO-d"
      }
    },
    {
      "cell_type": "markdown",
      "source": [
        "##引入AI"
      ],
      "metadata": {
        "id": "fmS30lVfpaRA"
      }
    },
    {
      "cell_type": "code",
      "execution_count": 11,
      "metadata": {
        "id": "Q5hvd8zbxq34"
      },
      "outputs": [],
      "source": [
        "from google.colab import userdata\n",
        "GOOGLE_API_KEY = userdata.get(\"GOOGLE_API_KEY\")\n",
        "\n",
        "import google.generativeai as genai\n",
        "genai.configure(api_key = GOOGLE_API_KEY)\n",
        "consultant_A = genai.GenerativeModel(\"gemini-1.5-flash\")\n",
        "consultant_B = genai.GenerativeModel(\"gemini-2.0-flash\")"
      ]
    },
    {
      "cell_type": "markdown",
      "source": [
        "#中間步驟"
      ],
      "metadata": {
        "id": "Sg1I5mvNrgui"
      }
    },
    {
      "cell_type": "code",
      "source": [
        "# prompt: a user can enter how many time he can talk with consultant_A，and the conversation will be recorded as a dataframe\n",
        "\n",
        "import pandas as pd\n",
        "\n",
        "# ... (your existing code)\n",
        "\n",
        "# Get user input for the number of conversations\n",
        "num_conversations = int(input(\"Enter the number of conversations with consultant_A: \"))\n",
        "\n",
        "# Create an empty list to store conversation data\n",
        "conversation_data = []\n",
        "\n",
        "# Loop through the specified number of conversations\n",
        "for i in range(num_conversations):\n",
        "    user_input = input(f\"Conversation {i+1}: Enter your message: \")\n",
        "\n",
        "    # Interact with consultant_A\n",
        "    response = consultant_A.generate_content(user_input)\n",
        "    consultant_response = response.text\n",
        "    print(f\"Consultant A Response: {consultant_response}\")\n",
        "\n",
        "    # Store the conversation data\n",
        "    conversation_data.append({\n",
        "        \"Consultant A Response\": consultant_response\n",
        "    })\n",
        "\n",
        "# Create a Pandas DataFrame from the conversation data\n",
        "df = pd.DataFrame(conversation_data)\n",
        "\n",
        "# Display the DataFrame\n",
        "df\n",
        "full_content = df.to_string()\n",
        "prompt2 = f'請根據以下內容進行分析，統整出可以給使用者的建議：{full_content}'\n",
        "analization = consultant_B.generate_content(prompt2)\n",
        "print(f\"Consultant B Response: {analization.text}\")\n",
        "\n",
        "# Optionally, save the DataFrame to a file\n",
        "# df.to_csv(\"conversations.csv\", index=False)\n"
      ],
      "metadata": {
        "colab": {
          "base_uri": "https://localhost:8080/",
          "height": 1000
        },
        "id": "doFUjxrXrlGa",
        "outputId": "6bf8c331-b0cc-4bb5-cf34-a980ffc52921"
      },
      "execution_count": 14,
      "outputs": [
        {
          "output_type": "stream",
          "name": "stdout",
          "text": [
            "Enter the number of conversations with consultant_A: 3\n",
            "Conversation 1: Enter your message: 我好心累，怎麼辦\n",
            "Consultant A Response: 聽到你說你好心累，我很同情你的感受。心累是一種很普遍的情緒，表示你可能身心俱疲，需要一些時間和方法來恢復。  要幫你，我需要更多資訊，但以下是一些你可以嘗試的方法，希望可以幫助你：\n",
            "\n",
            "**首先，試著找出心累的原因：**\n",
            "\n",
            "* **工作壓力？**  工作超時、人際關係緊張、目標難以達成等等。\n",
            "* **人際關係？** 與家人、朋友或伴侶的衝突或疏離感。\n",
            "* **生活壓力？** 金錢問題、健康問題、家庭責任等等。\n",
            "* **自身期待？** 對自己要求過高，無法達成目標而感到沮喪。\n",
            "* **缺乏休息？**  長期缺乏睡眠、休息不足。\n",
            "\n",
            "**你可以嘗試以下方法來舒緩心累：**\n",
            "\n",
            "* **休息：**  這是最重要的一步！ 試著睡個好覺，放慢生活步調，給自己一些時間放鬆。  可以試著做一些放鬆活動，例如泡個熱水澡、聽音樂、閱讀等等。\n",
            "\n",
            "* **運動：**  運動可以釋放壓力和改善情緒。  即使只是散步或做一些簡單的伸展操，也能有所幫助。\n",
            "\n",
            "* **與人談談：**  向信任的朋友、家人或專業人士傾訴你的感受。  把心中的壓力說出來，可以減輕你的負擔。\n",
            "\n",
            "* **尋求專業協助：**  如果你的心累持續很長時間，或者影響你的日常生活，請尋求專業人士的協助，例如心理諮詢師或精神科醫生。他們可以提供更專業的建議和支持。\n",
            "\n",
            "* **調整生活方式：**  檢視你的生活習慣，看看是否有需要改變的地方。  例如，調整工作時間、學習時間管理技巧、培養健康的飲食習慣等等。\n",
            "\n",
            "* **培養興趣愛好：**  做一些你喜歡的事情，可以幫助你轉移注意力，放鬆心情。\n",
            "\n",
            "* **冥想或深呼吸：**  這些方法可以幫助你放鬆身心，降低壓力。\n",
            "\n",
            "\n",
            "**請記住，你不是孤單的。很多人都有過心累的經驗。  重要的是要找到適合自己的方法來應對，並尋求必要的支援。**\n",
            "\n",
            "如果你願意分享更多關於你心累的原因，我可以提供更具體的建議。  請不要害怕尋求幫助，你的健康和幸福最重要。\n",
            "\n",
            "Conversation 2: Enter your message: 我考砸了我的期末考，我要被當了!!!!\n",
            "Consultant A Response: 我知道你現在一定很難過，考砸期末考真的讓人很沮喪。先別太慌張，讓我們一步一步來解決這個問題。\n",
            "\n",
            "首先，深呼吸，讓自己冷靜下來。  情緒低落是正常的反應，允許自己花一點時間去感受這些情緒，但不要讓負面情緒壓垮你。\n",
            "\n",
            "接下來，我們需要了解情況：\n",
            "\n",
            "* **你哪一科考砸了？**  有些科目可能比其他科目更容易補救。\n",
            "* **你的老師有什麼補救措施？**  例如：有沒有期末報告、加考、或是可以和你討論成績的機會？  儘快聯繫你的老師，了解情況，並誠懇地說明你的困境。\n",
            "* **你還有其他科目嗎？**  即使一科考砸了，其他科目成績良好，也可能讓你避免被當掉。\n",
            "* **學校有什麼資源可以幫助你？**  例如：輔導老師、學習中心等等，他們或許能提供協助。\n",
            "\n",
            "別忘了，一次考試的成績並不代表你的全部。  這是一個學習的機會，讓你了解自己的弱點，並在未來有所改進。  現在最重要的是，積極地找出解決方法，而不是陷入自責。  \n",
            "\n",
            "你可以嘗試：\n",
            "\n",
            "* **分析考試內容：** 找出你失分的原因，是概念理解不夠？還是時間管理出了問題？\n",
            "* **尋求協助：**  向老師、同學、家長或輔導老師尋求協助，釐清你的疑惑。\n",
            "* **制定學習計畫：**  為下學期或下個學期制定更有效的學習計畫，避免重蹈覆轍。\n",
            "\n",
            "\n",
            "請記住，你不是孤單的。  許多人都經歷過類似的困境，而他們都克服了。  積極面對，你一定可以找到解決方法的！  如果你需要有人傾聽，我很樂意成為你的聆聽者。\n",
            "\n",
            "Conversation 3: Enter your message: 嗯...我覺得我好多了...\n",
            "Consultant A Response: 很高興聽到你覺得好多了！希望你繼續好轉。有什麼我能幫你的嗎？\n",
            "\n",
            "Consultant B Response: 好的，根據你提供的三個 Consultant 的回覆，我將統整出可以給使用者的建議：\n",
            "\n",
            "**核心建議：**\n",
            "\n",
            "*   **自我關懷和情緒管理：** 重視自己的感受，允許自己有負面情緒，但不要讓情緒壓垮自己。深呼吸、放鬆，給自己時間和空間去處理情緒。\n",
            "\n",
            "*   **釐清問題、找出原因：** 針對問題的核心，分析問題的本質和原因。這能幫助你找到更有效的解決方法。\n",
            "\n",
            "*   **積極尋求協助：** 不要害怕向外求助。尋求朋友、家人、老師、專業人士的支持與協助，他們可以提供不同的觀點和資源。\n",
            "\n",
            "*   **化危機為轉機：** 將挫折視為學習的機會，從中了解自己的弱點，並在未來加以改進。\n",
            "\n",
            "*   **制定計畫、積極行動：** 訂定明確的目標和可行的計畫，並積極執行。\n",
            "\n",
            "*   **不要孤單承受：** 記得你不是孤單的，許多人都經歷過類似的困境。重要的是找到適合自己的應對方式，並尋求必要的支持。\n",
            "\n",
            "**針對「心累」的回覆 (Consultant A):**\n",
            "\n",
            "*   **找出心累的原因：** 思考工作、人際關係、生活壓力、自身期待、缺乏休息等方面，找出心累的根源。\n",
            "*   **舒緩心累的方法：**\n",
            "    *   **休息：** 睡眠、放鬆、泡澡、聽音樂、閱讀。\n",
            "    *   **運動：** 釋放壓力、改善情緒。\n",
            "    *   **與人談談：** 傾訴感受，減輕負擔。\n",
            "    *   **尋求專業協助：** 如果心累持續，影響日常生活，尋求心理諮詢師或精神科醫生的幫助。\n",
            "    *   **調整生活方式：** 調整工作時間、學習時間管理、培養健康飲食。\n",
            "    *   **培養興趣愛好：** 轉移注意力，放鬆心情。\n",
            "    *   **冥想或深呼吸：** 放鬆身心，降低壓力。\n",
            "\n",
            "**針對「期末考考砸」的回覆 (Consultant B):**\n",
            "\n",
            "*   **了解情況：**\n",
            "    *   考砸哪一科？\n",
            "    *   老師有補救措施嗎？\n",
            "    *   還有其他科目嗎？\n",
            "    *   學校有什麼資源？\n",
            "*   **解決方法：**\n",
            "    *   分析考試內容，找出失分原因。\n",
            "    *   向老師、同學、家長、輔導老師尋求協助。\n",
            "    *   制定學習計畫，避免重蹈覆轍。\n",
            "\n",
            "**總結：**\n",
            "\n",
            "這些建議強調了自我關懷、問題分析、積極行動和尋求支持的重要性。 無論是面對心累還是考試失利，都可以運用這些原則來應對，並找到解決問題的途徑。\n"
          ]
        }
      ]
    },
    {
      "cell_type": "code",
      "source": [],
      "metadata": {
        "id": "C-hLU_gKwKZg"
      },
      "execution_count": null,
      "outputs": []
    }
  ]
}